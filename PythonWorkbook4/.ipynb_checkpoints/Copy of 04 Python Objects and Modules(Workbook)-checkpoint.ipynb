{
 "cells": [
  {
   "cell_type": "markdown",
   "metadata": {
    "id": "1mCDFM-jB_Sk"
   },
   "source": [
    "# PYTHON MODULES & OBJECTS\n",
    "\n",
    "[CC BY 4.0](https://creativecommons.org/licenses/by/4.0/)"
   ]
  },
  {
   "cell_type": "markdown",
   "metadata": {
    "id": "HYinkgPQB_Sm"
   },
   "source": [
    "# Before you begin\n",
    "\n",
    "First, make a copy of this notebook so that you can make changes as you please. Run and edit the copy instead of this original notebook. To copy this notebook, go to `File|Make a Copy`.\n",
    "\n",
    "If this notebook is already a copy of the original, clear all outputs in this notebook. Go to the Menu and click on `Cell| All Outputs| Clear`. Once this is done, you're ready to go.\n",
    "\n",
    "[あ]"
   ]
  },
  {
   "cell_type": "markdown",
   "metadata": {
    "id": "FTTzq9dSB_Sn"
   },
   "source": [
    "# Suggestions for Learning\n",
    "\n",
    "- Code snippets in Raw Cells are meant to be written by Beginners.\n",
    "- Code snippets in Code Cells are for illustration purposes. They are meant to be executed by both Beginners and more experienced Learners. (Beginners, may wish to also type them, if they so choose).\n",
    "\n",
    "For better learning experience, the following are suggested:\n",
    "\n",
    "### For Beginners\n",
    "1. Create a new Code Cell below the code snippets inside Raw Cells (Insert Cell below then convert the cell type to Code Cell).\n",
    "2. Go to your newly-created Code Cell and re-type what you see in the code snippet (don't copy-paste)\n",
    "3. Execute (and experiment) on the Code Cell.\n",
    "4. Remember to learn by doing (not just by reading or seeing)\n",
    "\n",
    "### For Coders\n",
    "1. If you are not yet familiar with the concept, follow Steps 1&2 of the Instructions for Beginners\n",
    "2. If you are already familiar with the concept being presented, convert the Raw Cell into a Code Cell.\n",
    "3. Execute (and experiment) on the Code Cell.\n",
    "4. Learn the \"adjacent concepts\", e.g. read related documentation.\n",
    "5. Help your classmates, because teaching is a wonderful way to learn.\n",
    "\n",
    "### For All\n",
    "* Make this your personal notebook.\n",
    "    * Add your own text annotations in Markup Cells.\n",
    "    * Add comments to parts of code that you find difficult to understand\n",
    "    * Breakdown difficult code into several small pieces (maybe, several Code Cells) that are easier to understand\n",
    "    \n",
    "[あ]"
   ]
  },
  {
   "cell_type": "markdown",
   "metadata": {
    "id": "5p9T4JtiB_So"
   },
   "source": [
    "<a id='contents'></a>"
   ]
  },
  {
   "cell_type": "markdown",
   "metadata": {
    "id": "pyPr9dD5B_Sp"
   },
   "source": [
    "# TABLE OF CONTENTS"
   ]
  },
  {
   "cell_type": "markdown",
   "metadata": {
    "id": "ju8U2MoPB_Sp"
   },
   "source": [
    "[Python Modules](#modules)<br>\n",
    "[Python Objects](#objects)<br>"
   ]
  },
  {
   "cell_type": "markdown",
   "metadata": {
    "id": "CcmlbdTWB_Sp"
   },
   "source": [
    "<a id='modules'></a>\n",
    "\n",
    "# PYTHON MODULES"
   ]
  },
  {
   "cell_type": "markdown",
   "metadata": {
    "id": "T8dTTfD-B_Sq"
   },
   "source": [
    "### Credits\n",
    "\n",
    "The outline for this section is based on:\n",
    "[How to Think Like a Computer\n",
    "Scientist: 3rd Edition (Using Python 3.x)](https://howtothink.readthedocs.io/en/latest/) by  Jeffrey Elkner, Peter Wentworth, Allen B. Downey, and Chris Meyers.\n",
    "\n",
    "The text and code in the first part of this section are by Antonio C. Briza (also marked by [あ]).\n",
    "\n",
    "Text and code starting from the subsection [Namespaces](#namespaces) are from the aforementioned source (also indicated by `[TCS]`)."
   ]
  },
  {
   "cell_type": "markdown",
   "metadata": {
    "id": "fnm2CMeWB_Sq"
   },
   "source": [
    "## Modules\n",
    "[あ]"
   ]
  },
  {
   "cell_type": "markdown",
   "metadata": {
    "id": "oJ5XtNUPB_Sq"
   },
   "source": [
    "A **module** is a file containing Python **definitions** and **statements** intended for use in other Python programs. There are many Python modules that come with Python as part of the standard library. [TCS]"
   ]
  },
  {
   "cell_type": "markdown",
   "metadata": {
    "id": "cmntL4ObB_Sq"
   },
   "source": [
    "- Examples of modules from the standard library are `str`, `list`, `tuple`, `dict`.\n",
    "- Modules can contain functions, variables, constants"
   ]
  },
  {
   "cell_type": "code",
   "execution_count": 1,
   "metadata": {
    "id": "TqMAo2lYB_Sr"
   },
   "outputs": [
    {
     "name": "stdout",
     "output_type": "stream",
     "text": [
      "\n",
      "start><end\n"
     ]
    }
   ],
   "source": [
    "my_str = str()\n",
    "print(my_str)\n",
    "print('start>' + my_str + '<end')"
   ]
  },
  {
   "cell_type": "code",
   "execution_count": 2,
   "metadata": {
    "id": "bYS4fWE2B_Sr"
   },
   "outputs": [
    {
     "name": "stdout",
     "output_type": "stream",
     "text": [
      "[]\n"
     ]
    }
   ],
   "source": [
    "my_list = list()\n",
    "print(my_list)"
   ]
  },
  {
   "cell_type": "markdown",
   "metadata": {
    "id": "PpH3ebveB_Sr"
   },
   "source": [
    "## An example: The `math`  module\n",
    "[あ]"
   ]
  },
  {
   "cell_type": "markdown",
   "metadata": {
    "id": "1NgsSxzpB_Sr"
   },
   "source": [
    "The **math** module contains a collection of functions and constants grouped together.  [TCS]\n",
    "\n",
    "In order to use a module, you have to **import** it in your program or script.  "
   ]
  },
  {
   "cell_type": "code",
   "execution_count": 3,
   "metadata": {
    "id": "AYVACXpiB_Sr"
   },
   "outputs": [],
   "source": [
    "import math"
   ]
  },
  {
   "cell_type": "markdown",
   "metadata": {
    "id": "-NsjyX-tB_Sr"
   },
   "source": [
    "We can check on what is on this module does by passing its name to the **help()** function:"
   ]
  },
  {
   "cell_type": "code",
   "execution_count": 4,
   "metadata": {
    "id": "VhpfKux7B_Ss"
   },
   "outputs": [
    {
     "name": "stdout",
     "output_type": "stream",
     "text": [
      "Help on built-in module math:\n",
      "\n",
      "NAME\n",
      "    math\n",
      "\n",
      "DESCRIPTION\n",
      "    This module provides access to the mathematical functions\n",
      "    defined by the C standard.\n",
      "\n",
      "FUNCTIONS\n",
      "    acos(x, /)\n",
      "        Return the arc cosine (measured in radians) of x.\n",
      "        \n",
      "        The result is between 0 and pi.\n",
      "    \n",
      "    acosh(x, /)\n",
      "        Return the inverse hyperbolic cosine of x.\n",
      "    \n",
      "    asin(x, /)\n",
      "        Return the arc sine (measured in radians) of x.\n",
      "        \n",
      "        The result is between -pi/2 and pi/2.\n",
      "    \n",
      "    asinh(x, /)\n",
      "        Return the inverse hyperbolic sine of x.\n",
      "    \n",
      "    atan(x, /)\n",
      "        Return the arc tangent (measured in radians) of x.\n",
      "        \n",
      "        The result is between -pi/2 and pi/2.\n",
      "    \n",
      "    atan2(y, x, /)\n",
      "        Return the arc tangent (measured in radians) of y/x.\n",
      "        \n",
      "        Unlike atan(y/x), the signs of both x and y are considered.\n",
      "    \n",
      "    atanh(x, /)\n",
      "        Return the inverse hyperbolic tangent of x.\n",
      "    \n",
      "    cbrt(x, /)\n",
      "        Return the cube root of x.\n",
      "    \n",
      "    ceil(x, /)\n",
      "        Return the ceiling of x as an Integral.\n",
      "        \n",
      "        This is the smallest integer >= x.\n",
      "    \n",
      "    comb(n, k, /)\n",
      "        Number of ways to choose k items from n items without repetition and without order.\n",
      "        \n",
      "        Evaluates to n! / (k! * (n - k)!) when k <= n and evaluates\n",
      "        to zero when k > n.\n",
      "        \n",
      "        Also called the binomial coefficient because it is equivalent\n",
      "        to the coefficient of k-th term in polynomial expansion of the\n",
      "        expression (1 + x)**n.\n",
      "        \n",
      "        Raises TypeError if either of the arguments are not integers.\n",
      "        Raises ValueError if either of the arguments are negative.\n",
      "    \n",
      "    copysign(x, y, /)\n",
      "        Return a float with the magnitude (absolute value) of x but the sign of y.\n",
      "        \n",
      "        On platforms that support signed zeros, copysign(1.0, -0.0)\n",
      "        returns -1.0.\n",
      "    \n",
      "    cos(x, /)\n",
      "        Return the cosine of x (measured in radians).\n",
      "    \n",
      "    cosh(x, /)\n",
      "        Return the hyperbolic cosine of x.\n",
      "    \n",
      "    degrees(x, /)\n",
      "        Convert angle x from radians to degrees.\n",
      "    \n",
      "    dist(p, q, /)\n",
      "        Return the Euclidean distance between two points p and q.\n",
      "        \n",
      "        The points should be specified as sequences (or iterables) of\n",
      "        coordinates.  Both inputs must have the same dimension.\n",
      "        \n",
      "        Roughly equivalent to:\n",
      "            sqrt(sum((px - qx) ** 2.0 for px, qx in zip(p, q)))\n",
      "    \n",
      "    erf(x, /)\n",
      "        Error function at x.\n",
      "    \n",
      "    erfc(x, /)\n",
      "        Complementary error function at x.\n",
      "    \n",
      "    exp(x, /)\n",
      "        Return e raised to the power of x.\n",
      "    \n",
      "    exp2(x, /)\n",
      "        Return 2 raised to the power of x.\n",
      "    \n",
      "    expm1(x, /)\n",
      "        Return exp(x)-1.\n",
      "        \n",
      "        This function avoids the loss of precision involved in the direct evaluation of exp(x)-1 for small x.\n",
      "    \n",
      "    fabs(x, /)\n",
      "        Return the absolute value of the float x.\n",
      "    \n",
      "    factorial(n, /)\n",
      "        Find n!.\n",
      "        \n",
      "        Raise a ValueError if x is negative or non-integral.\n",
      "    \n",
      "    floor(x, /)\n",
      "        Return the floor of x as an Integral.\n",
      "        \n",
      "        This is the largest integer <= x.\n",
      "    \n",
      "    fmod(x, y, /)\n",
      "        Return fmod(x, y), according to platform C.\n",
      "        \n",
      "        x % y may differ.\n",
      "    \n",
      "    frexp(x, /)\n",
      "        Return the mantissa and exponent of x, as pair (m, e).\n",
      "        \n",
      "        m is a float and e is an int, such that x = m * 2.**e.\n",
      "        If x is 0, m and e are both 0.  Else 0.5 <= abs(m) < 1.0.\n",
      "    \n",
      "    fsum(seq, /)\n",
      "        Return an accurate floating point sum of values in the iterable seq.\n",
      "        \n",
      "        Assumes IEEE-754 floating point arithmetic.\n",
      "    \n",
      "    gamma(x, /)\n",
      "        Gamma function at x.\n",
      "    \n",
      "    gcd(*integers)\n",
      "        Greatest Common Divisor.\n",
      "    \n",
      "    hypot(...)\n",
      "        hypot(*coordinates) -> value\n",
      "        \n",
      "        Multidimensional Euclidean distance from the origin to a point.\n",
      "        \n",
      "        Roughly equivalent to:\n",
      "            sqrt(sum(x**2 for x in coordinates))\n",
      "        \n",
      "        For a two dimensional point (x, y), gives the hypotenuse\n",
      "        using the Pythagorean theorem:  sqrt(x*x + y*y).\n",
      "        \n",
      "        For example, the hypotenuse of a 3/4/5 right triangle is:\n",
      "        \n",
      "            >>> hypot(3.0, 4.0)\n",
      "            5.0\n",
      "    \n",
      "    isclose(a, b, *, rel_tol=1e-09, abs_tol=0.0)\n",
      "        Determine whether two floating point numbers are close in value.\n",
      "        \n",
      "          rel_tol\n",
      "            maximum difference for being considered \"close\", relative to the\n",
      "            magnitude of the input values\n",
      "          abs_tol\n",
      "            maximum difference for being considered \"close\", regardless of the\n",
      "            magnitude of the input values\n",
      "        \n",
      "        Return True if a is close in value to b, and False otherwise.\n",
      "        \n",
      "        For the values to be considered close, the difference between them\n",
      "        must be smaller than at least one of the tolerances.\n",
      "        \n",
      "        -inf, inf and NaN behave similarly to the IEEE 754 Standard.  That\n",
      "        is, NaN is not close to anything, even itself.  inf and -inf are\n",
      "        only close to themselves.\n",
      "    \n",
      "    isfinite(x, /)\n",
      "        Return True if x is neither an infinity nor a NaN, and False otherwise.\n",
      "    \n",
      "    isinf(x, /)\n",
      "        Return True if x is a positive or negative infinity, and False otherwise.\n",
      "    \n",
      "    isnan(x, /)\n",
      "        Return True if x is a NaN (not a number), and False otherwise.\n",
      "    \n",
      "    isqrt(n, /)\n",
      "        Return the integer part of the square root of the input.\n",
      "    \n",
      "    lcm(*integers)\n",
      "        Least Common Multiple.\n",
      "    \n",
      "    ldexp(x, i, /)\n",
      "        Return x * (2**i).\n",
      "        \n",
      "        This is essentially the inverse of frexp().\n",
      "    \n",
      "    lgamma(x, /)\n",
      "        Natural logarithm of absolute value of Gamma function at x.\n",
      "    \n",
      "    log(...)\n",
      "        log(x, [base=math.e])\n",
      "        Return the logarithm of x to the given base.\n",
      "        \n",
      "        If the base not specified, returns the natural logarithm (base e) of x.\n",
      "    \n",
      "    log10(x, /)\n",
      "        Return the base 10 logarithm of x.\n",
      "    \n",
      "    log1p(x, /)\n",
      "        Return the natural logarithm of 1+x (base e).\n",
      "        \n",
      "        The result is computed in a way which is accurate for x near zero.\n",
      "    \n",
      "    log2(x, /)\n",
      "        Return the base 2 logarithm of x.\n",
      "    \n",
      "    modf(x, /)\n",
      "        Return the fractional and integer parts of x.\n",
      "        \n",
      "        Both results carry the sign of x and are floats.\n",
      "    \n",
      "    nextafter(x, y, /)\n",
      "        Return the next floating-point value after x towards y.\n",
      "    \n",
      "    perm(n, k=None, /)\n",
      "        Number of ways to choose k items from n items without repetition and with order.\n",
      "        \n",
      "        Evaluates to n! / (n - k)! when k <= n and evaluates\n",
      "        to zero when k > n.\n",
      "        \n",
      "        If k is not specified or is None, then k defaults to n\n",
      "        and the function returns n!.\n",
      "        \n",
      "        Raises TypeError if either of the arguments are not integers.\n",
      "        Raises ValueError if either of the arguments are negative.\n",
      "    \n",
      "    pow(x, y, /)\n",
      "        Return x**y (x to the power of y).\n",
      "    \n",
      "    prod(iterable, /, *, start=1)\n",
      "        Calculate the product of all the elements in the input iterable.\n",
      "        \n",
      "        The default start value for the product is 1.\n",
      "        \n",
      "        When the iterable is empty, return the start value.  This function is\n",
      "        intended specifically for use with numeric values and may reject\n",
      "        non-numeric types.\n",
      "    \n",
      "    radians(x, /)\n",
      "        Convert angle x from degrees to radians.\n",
      "    \n",
      "    remainder(x, y, /)\n",
      "        Difference between x and the closest integer multiple of y.\n",
      "        \n",
      "        Return x - n*y where n*y is the closest integer multiple of y.\n",
      "        In the case where x is exactly halfway between two multiples of\n",
      "        y, the nearest even value of n is used. The result is always exact.\n",
      "    \n",
      "    sin(x, /)\n",
      "        Return the sine of x (measured in radians).\n",
      "    \n",
      "    sinh(x, /)\n",
      "        Return the hyperbolic sine of x.\n",
      "    \n",
      "    sqrt(x, /)\n",
      "        Return the square root of x.\n",
      "    \n",
      "    tan(x, /)\n",
      "        Return the tangent of x (measured in radians).\n",
      "    \n",
      "    tanh(x, /)\n",
      "        Return the hyperbolic tangent of x.\n",
      "    \n",
      "    trunc(x, /)\n",
      "        Truncates the Real x to the nearest Integral toward 0.\n",
      "        \n",
      "        Uses the __trunc__ magic method.\n",
      "    \n",
      "    ulp(x, /)\n",
      "        Return the value of the least significant bit of the float x.\n",
      "\n",
      "DATA\n",
      "    e = 2.718281828459045\n",
      "    inf = inf\n",
      "    nan = nan\n",
      "    pi = 3.141592653589793\n",
      "    tau = 6.283185307179586\n",
      "\n",
      "FILE\n",
      "    (built-in)\n",
      "\n",
      "\n"
     ]
    }
   ],
   "source": [
    "help(math)"
   ]
  },
  {
   "cell_type": "markdown",
   "metadata": {
    "id": "l0uR-6_9B_Ss"
   },
   "source": [
    "We can also use the **dir()** function to check its contents:"
   ]
  },
  {
   "cell_type": "code",
   "execution_count": 5,
   "metadata": {
    "id": "lNgQFc-FB_Ss"
   },
   "outputs": [
    {
     "name": "stdout",
     "output_type": "stream",
     "text": [
      "['__doc__', '__loader__', '__name__', '__package__', '__spec__', 'acos', 'acosh', 'asin', 'asinh', 'atan', 'atan2', 'atanh', 'cbrt', 'ceil', 'comb', 'copysign', 'cos', 'cosh', 'degrees', 'dist', 'e', 'erf', 'erfc', 'exp', 'exp2', 'expm1', 'fabs', 'factorial', 'floor', 'fmod', 'frexp', 'fsum', 'gamma', 'gcd', 'hypot', 'inf', 'isclose', 'isfinite', 'isinf', 'isnan', 'isqrt', 'lcm', 'ldexp', 'lgamma', 'log', 'log10', 'log1p', 'log2', 'modf', 'nan', 'nextafter', 'perm', 'pi', 'pow', 'prod', 'radians', 'remainder', 'sin', 'sinh', 'sqrt', 'tan', 'tanh', 'tau', 'trunc', 'ulp']\n"
     ]
    }
   ],
   "source": [
    "print(dir(math))"
   ]
  },
  {
   "cell_type": "markdown",
   "metadata": {
    "id": "q0OK6reiB_Ss"
   },
   "source": [
    "To access a function or variable in the module:\n",
    "- type the module name...\n",
    "- followed by the **dot** (`.`) operator...\n",
    "- followed by the function call or variable name you want to use"
   ]
  },
  {
   "cell_type": "code",
   "execution_count": 6,
   "metadata": {
    "id": "BkPX1Gc3B_Ss"
   },
   "outputs": [
    {
     "data": {
      "text/plain": [
       "3.141592653589793"
      ]
     },
     "execution_count": 6,
     "metadata": {},
     "output_type": "execute_result"
    }
   ],
   "source": [
    "math.pi # pi constant"
   ]
  },
  {
   "cell_type": "code",
   "execution_count": 7,
   "metadata": {
    "id": "UsOtZxBsB_Ss"
   },
   "outputs": [
    {
     "data": {
      "text/plain": [
       "2.718281828459045"
      ]
     },
     "execution_count": 7,
     "metadata": {},
     "output_type": "execute_result"
    }
   ],
   "source": [
    "math.e # base of natural logarithm"
   ]
  },
  {
   "cell_type": "code",
   "execution_count": 8,
   "metadata": {
    "id": "6lx0jzUsB_Ss"
   },
   "outputs": [
    {
     "data": {
      "text/plain": [
       "1.4142135623730951"
      ]
     },
     "execution_count": 8,
     "metadata": {},
     "output_type": "execute_result"
    }
   ],
   "source": [
    "math.sqrt(2.0) # Square root function"
   ]
  },
  {
   "cell_type": "code",
   "execution_count": 9,
   "metadata": {
    "id": "oks3NLkPB_St"
   },
   "outputs": [
    {
     "data": {
      "text/plain": [
       "1.0"
      ]
     },
     "execution_count": 9,
     "metadata": {},
     "output_type": "execute_result"
    }
   ],
   "source": [
    "math.sin(math.pi/2) # Sine function\n",
    "# angles are expressed in radians rather than degrees"
   ]
  },
  {
   "cell_type": "markdown",
   "metadata": {
    "id": "nFx6elxPB_St"
   },
   "source": [
    "## Creating your own modules\n",
    "\n",
    "[あ]"
   ]
  },
  {
   "cell_type": "markdown",
   "metadata": {
    "id": "1kHCf3kyB_St"
   },
   "source": [
    "All we need to do to create our own modules is to save our script as a file with a `.py` extension. [TCS]"
   ]
  },
  {
   "cell_type": "markdown",
   "metadata": {
    "id": "5hFhRd-NB_St"
   },
   "source": [
    "The code below defines a variable and a function."
   ]
  },
  {
   "cell_type": "code",
   "execution_count": 10,
   "metadata": {
    "id": "JX0ykaFoB_St"
   },
   "outputs": [],
   "source": [
    "ring_inventory = list(zip([3, 7, 9, 1],\n",
    "                          ['elven-kings', 'dwarf-lords', 'mortal men', 'Dark Lord']))\n",
    "\n",
    "def maxmin(num_list):\n",
    "    largest_so_far = None\n",
    "    smallest_so_far = None\n",
    "\n",
    "    for the_num in num_list:\n",
    "        if (largest_so_far is None) or (the_num > largest_so_far):\n",
    "            largest_so_far = the_num\n",
    "\n",
    "        if (smallest_so_far is None) or (the_num < smallest_so_far):\n",
    "            smallest_so_far = the_num\n",
    "\n",
    "    return (largest_so_far, smallest_so_far)"
   ]
  },
  {
   "cell_type": "code",
   "execution_count": 11,
   "metadata": {
    "id": "vfagebTFB_St"
   },
   "outputs": [
    {
     "data": {
      "text/plain": [
       "[(3, 'elven-kings'), (7, 'dwarf-lords'), (9, 'mortal men'), (1, 'Dark Lord')]"
      ]
     },
     "execution_count": 11,
     "metadata": {},
     "output_type": "execute_result"
    }
   ],
   "source": [
    "ring_inventory"
   ]
  },
  {
   "cell_type": "code",
   "execution_count": 12,
   "metadata": {
    "id": "0RC6Z6CbB_St"
   },
   "outputs": [
    {
     "data": {
      "text/plain": [
       "(74, 3)"
      ]
     },
     "execution_count": 12,
     "metadata": {},
     "output_type": "execute_result"
    }
   ],
   "source": [
    "maxmin([9, 41, 12, 3, 74, 15])"
   ]
  },
  {
   "cell_type": "markdown",
   "metadata": {
    "id": "03CfVcglB_Su"
   },
   "source": [
    "Let's write the code above to a python script `newmodule.py`"
   ]
  },
  {
   "cell_type": "code",
   "execution_count": 13,
   "metadata": {
    "id": "3qILzJfbB_Su"
   },
   "outputs": [
    {
     "name": "stdout",
     "output_type": "stream",
     "text": [
      "Writing newmodule.py\n"
     ]
    }
   ],
   "source": [
    "%%writefile newmodule.py\n",
    "\"\"\"\n",
    "My very own new module\n",
    "\"\"\"\n",
    "\n",
    "ring_inventory = list(zip([3, 7, 9, 1],\n",
    "                          ['elven-kings', 'dwarf-lords', 'mortal men', 'Dark Lord']))\n",
    "\n",
    "def maxmin(num_list):\n",
    "    \"\"\"\n",
    "    Parameter: A list of numbers\n",
    "    Returns: maximum and minimun values in the list\n",
    "    \"\"\"\n",
    "\n",
    "    largest_so_far = None\n",
    "    smallest_so_far = None\n",
    "\n",
    "    for the_num in num_list:\n",
    "        if (largest_so_far is None) or (the_num > largest_so_far):\n",
    "            largest_so_far = the_num\n",
    "\n",
    "        if (smallest_so_far is None) or (the_num < smallest_so_far):\n",
    "            smallest_so_far = the_num\n",
    "\n",
    "    return (largest_so_far, smallest_so_far)"
   ]
  },
  {
   "cell_type": "markdown",
   "metadata": {
    "id": "U3qXt7SYB_Su"
   },
   "source": [
    "If you're using Linux or Mac, check if the file was written by running the following terminal command:"
   ]
  },
  {
   "cell_type": "code",
   "execution_count": 14,
   "metadata": {
    "id": "xS3b25SRB_Su"
   },
   "outputs": [
    {
     "name": "stderr",
     "output_type": "stream",
     "text": [
      "'ls' is not recognized as an internal or external command,\n",
      "operable program or batch file.\n"
     ]
    }
   ],
   "source": [
    "!ls -l newmodule.py"
   ]
  },
  {
   "cell_type": "markdown",
   "metadata": {
    "id": "s_4XHH5-B_Su"
   },
   "source": [
    "If you're using Windows, run the following terminal command:"
   ]
  },
  {
   "cell_type": "code",
   "execution_count": 15,
   "metadata": {
    "id": "hb_Dmx4jB_Su"
   },
   "outputs": [
    {
     "name": "stdout",
     "output_type": "stream",
     "text": [
      " Volume in drive C is Brags\n",
      " Volume Serial Number is BAC2-B7DA\n",
      "\n",
      " Directory of C:\\Users\\Acer\\OneDrive\\Documents\\GitHub\\ICT110_CS2A_BRAGA\\Workbook_part4\n",
      "\n",
      "12/04/2024  11:10 pm               648 newmodule.py\n",
      "               1 File(s)            648 bytes\n",
      "               0 Dir(s)  83,437,232,128 bytes free\n"
     ]
    }
   ],
   "source": [
    "!dir newmodule.py"
   ]
  },
  {
   "cell_type": "markdown",
   "metadata": {
    "id": "j0zKNVzWB_Su"
   },
   "source": [
    "Let's import `newmodule`"
   ]
  },
  {
   "cell_type": "code",
   "execution_count": 16,
   "metadata": {
    "id": "EXV7h1vuB_Sv"
   },
   "outputs": [],
   "source": [
    "import newmodule"
   ]
  },
  {
   "cell_type": "markdown",
   "metadata": {
    "id": "s0uwNycGB_S2"
   },
   "source": [
    "Now we can use the functions and variables in the module."
   ]
  },
  {
   "cell_type": "code",
   "execution_count": 17,
   "metadata": {
    "id": "hkCKSFWaB_S2"
   },
   "outputs": [
    {
     "data": {
      "text/plain": [
       "(74, 3)"
      ]
     },
     "execution_count": 17,
     "metadata": {},
     "output_type": "execute_result"
    }
   ],
   "source": [
    "newmodule.maxmin([9, 41, 12, 3, 74, 15])"
   ]
  },
  {
   "cell_type": "code",
   "execution_count": 18,
   "metadata": {
    "id": "bobxL0N6B_S2"
   },
   "outputs": [
    {
     "data": {
      "text/plain": [
       "[(3, 'elven-kings'), (7, 'dwarf-lords'), (9, 'mortal men'), (1, 'Dark Lord')]"
      ]
     },
     "execution_count": 18,
     "metadata": {},
     "output_type": "execute_result"
    }
   ],
   "source": [
    "newmodule.ring_inventory"
   ]
  },
  {
   "cell_type": "markdown",
   "metadata": {
    "id": "aDWEwvntB_S2"
   },
   "source": [
    "To double check, we can remove from \"Python's memory\" the variable `maxmin` and function `ring_inventory` that we have earlier defined using the `del` command."
   ]
  },
  {
   "cell_type": "code",
   "execution_count": 19,
   "metadata": {
    "id": "-vgG-sErB_S3"
   },
   "outputs": [],
   "source": [
    "del maxmin\n",
    "del ring_inventory"
   ]
  },
  {
   "cell_type": "markdown",
   "metadata": {
    "id": "UEyiCLoSB_S3"
   },
   "source": [
    "Note that below, we can no longer access `ring_inventory."
   ]
  },
  {
   "cell_type": "code",
   "execution_count": 20,
   "metadata": {
    "id": "h_RoYyiMB_S3"
   },
   "outputs": [
    {
     "ename": "NameError",
     "evalue": "name 'ring_inventory' is not defined",
     "output_type": "error",
     "traceback": [
      "\u001b[1;31m---------------------------------------------------------------------------\u001b[0m",
      "\u001b[1;31mNameError\u001b[0m                                 Traceback (most recent call last)",
      "Cell \u001b[1;32mIn[20], line 1\u001b[0m\n\u001b[1;32m----> 1\u001b[0m ring_inventory\n",
      "\u001b[1;31mNameError\u001b[0m: name 'ring_inventory' is not defined"
     ]
    }
   ],
   "source": [
    "ring_inventory"
   ]
  },
  {
   "cell_type": "markdown",
   "metadata": {
    "id": "8izEMUlZB_S3"
   },
   "source": [
    "However, we can access `newmodule.ring_inventory` since we have already imported `newmodule`."
   ]
  },
  {
   "cell_type": "code",
   "execution_count": 21,
   "metadata": {
    "id": "ubCYWAo6B_S3"
   },
   "outputs": [
    {
     "data": {
      "text/plain": [
       "[(3, 'elven-kings'), (7, 'dwarf-lords'), (9, 'mortal men'), (1, 'Dark Lord')]"
      ]
     },
     "execution_count": 21,
     "metadata": {},
     "output_type": "execute_result"
    }
   ],
   "source": [
    "newmodule.ring_inventory"
   ]
  },
  {
   "cell_type": "markdown",
   "metadata": {
    "id": "ZnknMOo1B_S3"
   },
   "source": [
    "As well as `newmodule.maxmin`:"
   ]
  },
  {
   "cell_type": "code",
   "execution_count": 22,
   "metadata": {
    "id": "Xpsj0v71B_S4"
   },
   "outputs": [
    {
     "data": {
      "text/plain": [
       "(11, 1)"
      ]
     },
     "execution_count": 22,
     "metadata": {},
     "output_type": "execute_result"
    }
   ],
   "source": [
    "newmodule.maxmin([1, 3, 5, 7, 9, 11])"
   ]
  },
  {
   "cell_type": "markdown",
   "metadata": {
    "id": "y3WrQUyKB_S4"
   },
   "source": [
    "#### Side Note:  Docstrings\n",
    "[あ]"
   ]
  },
  {
   "cell_type": "markdown",
   "metadata": {
    "id": "5flaF8zDB_S5"
   },
   "source": [
    "You can provide help information on the modules and functions that you create (e.g. how to use them, parameters, return values, etc.).  This help information is called the **docstring** of the module or function. Docstrings are created by surrounding text with triple double quotes.\n",
    "\n",
    "We can print the **docstring** of a python module or function by passign their name to `help()`."
   ]
  },
  {
   "cell_type": "code",
   "execution_count": 23,
   "metadata": {
    "id": "GteRZSfqB_S5"
   },
   "outputs": [
    {
     "name": "stdout",
     "output_type": "stream",
     "text": [
      "Help on module newmodule:\n",
      "\n",
      "NAME\n",
      "    newmodule - My very own new module\n",
      "\n",
      "FUNCTIONS\n",
      "    maxmin(num_list)\n",
      "        Parameter: A list of numbers\n",
      "        Returns: maximum and minimun values in the list\n",
      "\n",
      "DATA\n",
      "    ring_inventory = [(3, 'elven-kings'), (7, 'dwarf-lords'), (9, 'mortal ...\n",
      "\n",
      "FILE\n",
      "    c:\\users\\acer\\onedrive\\documents\\github\\ict110_cs2a_braga\\workbook_part4\\newmodule.py\n",
      "\n",
      "\n"
     ]
    }
   ],
   "source": [
    "help(newmodule)"
   ]
  },
  {
   "cell_type": "markdown",
   "metadata": {
    "id": "96zxyhUHB_S6"
   },
   "source": [
    "We can also get the docstring for a specific funtion"
   ]
  },
  {
   "cell_type": "code",
   "execution_count": 24,
   "metadata": {
    "id": "c--4KIK3B_S6"
   },
   "outputs": [
    {
     "name": "stdout",
     "output_type": "stream",
     "text": [
      "Help on function maxmin in module newmodule:\n",
      "\n",
      "maxmin(num_list)\n",
      "    Parameter: A list of numbers\n",
      "    Returns: maximum and minimun values in the list\n",
      "\n"
     ]
    }
   ],
   "source": [
    "help(newmodule.maxmin)"
   ]
  },
  {
   "cell_type": "markdown",
   "metadata": {
    "id": "Yjcje_46B_S7"
   },
   "source": [
    "<a id='namespaces'></a>\n",
    "## Namespaces\n",
    "\n",
    "This entire section is from [TCS]"
   ]
  },
  {
   "cell_type": "markdown",
   "metadata": {
    "id": "bKC_fUQXB_S7"
   },
   "source": [
    "A namespace is a collection of identifiers that belong to a module, or to a function, (and as we will see soon, in classes too). Generally, we like a namespace to hold “related” things, e.g. all the math functions, or all the typical things we’d do with random numbers."
   ]
  },
  {
   "cell_type": "markdown",
   "metadata": {
    "id": "T-zXkIU5B_S8"
   },
   "source": [
    "Each module has its own namespace, so we can use the same identifier name in multiple modules without causing an identification problem."
   ]
  },
  {
   "cell_type": "code",
   "execution_count": 25,
   "metadata": {
    "id": "t-i1Dbk1B_S8"
   },
   "outputs": [
    {
     "name": "stdout",
     "output_type": "stream",
     "text": [
      "Writing module1.py\n"
     ]
    }
   ],
   "source": [
    "%%writefile module1.py\n",
    "\n",
    "question = \"What is the meaning of Life, the Universe, and Everything?\"\n",
    "answer = 42"
   ]
  },
  {
   "cell_type": "code",
   "execution_count": 26,
   "metadata": {
    "id": "LuKQDQ-FB_S8"
   },
   "outputs": [
    {
     "name": "stdout",
     "output_type": "stream",
     "text": [
      "Writing module2.py\n"
     ]
    }
   ],
   "source": [
    "%%writefile module2.py\n",
    "\n",
    "question = \"What is your quest?\"\n",
    "answer = \"To seek the holy grail.\""
   ]
  },
  {
   "cell_type": "code",
   "execution_count": 27,
   "metadata": {
    "id": "Hkme9NAhB_S8"
   },
   "outputs": [
    {
     "name": "stdout",
     "output_type": "stream",
     "text": [
      "What is the meaning of Life, the Universe, and Everything?\n",
      "What is your quest?\n",
      "42\n",
      "To seek the holy grail.\n"
     ]
    }
   ],
   "source": [
    "import module1\n",
    "import module2\n",
    "\n",
    "print(module1.question)\n",
    "print(module2.question)\n",
    "print(module1.answer)\n",
    "print(module2.answer)"
   ]
  },
  {
   "cell_type": "markdown",
   "metadata": {
    "id": "jF35RdQ2B_S8"
   },
   "source": [
    "Functions also have their own namespaces:"
   ]
  },
  {
   "cell_type": "code",
   "execution_count": 28,
   "metadata": {
    "id": "sNI6W1GdB_S9"
   },
   "outputs": [
    {
     "name": "stdout",
     "output_type": "stream",
     "text": [
      "printing n before calling f: 11\n",
      "printing n inside of f: 7\n",
      "printing n after calling f: 11\n",
      "printing n inside of g: 42\n",
      "printing n after calling g: 11\n"
     ]
    }
   ],
   "source": [
    "def f():\n",
    "    n = 7\n",
    "    print(\"printing n inside of f:\", n)\n",
    "\n",
    "def g():\n",
    "    n = 42\n",
    "    print(\"printing n inside of g:\", n)\n",
    "\n",
    "n = 11\n",
    "print(\"printing n before calling f:\", n)\n",
    "f()\n",
    "print(\"printing n after calling f:\", n)\n",
    "g()\n",
    "print(\"printing n after calling g:\", n)"
   ]
  },
  {
   "cell_type": "markdown",
   "metadata": {
    "id": "NmyzaIxoB_S9"
   },
   "source": [
    "The three n’s here do not collide since they are each in a different namespace — they are three names for three different variables, just like there might be three different instances of people, all called “Bruce”.\n",
    "\n",
    "Namespaces permit several programmers to work on the same project without having naming collisions."
   ]
  },
  {
   "cell_type": "markdown",
   "metadata": {
    "id": "Pu9nuPXdB_S9"
   },
   "source": [
    "### Scope and lookup rules\n",
    "\n",
    "The **scope** of an identifier is the region of program code in which the identifier can be accessed, or used.\n",
    "\n",
    "There are three important scopes in Python:\n",
    "\n",
    "- **Local scope** refers to identifiers declared within a function. These identifiers are kept in the namespace that belongs to the function, and each function has its own namespace.\n",
    "- **Global scope** refers to all the identifiers declared within the current module, or file.\n",
    "- **Built-in scope** refers to all the identifiers built into Python — those like range and min that can be used without having to import anything, and are (almost) always available.\n"
   ]
  },
  {
   "cell_type": "markdown",
   "metadata": {
    "id": "ZqX4usK5B_S-"
   },
   "source": [
    "## Three import statement variants\n",
    "\n",
    "This entire section is from [TCS]"
   ]
  },
  {
   "cell_type": "markdown",
   "metadata": {
    "id": "bqOXSBvCB_S-"
   },
   "source": [
    "Here are three different ways to import names into the current namespace, and to use them:"
   ]
  },
  {
   "cell_type": "code",
   "execution_count": 29,
   "metadata": {
    "id": "RtIUWs9wB_S-"
   },
   "outputs": [
    {
     "data": {
      "text/plain": [
       "3.1622776601683795"
      ]
     },
     "execution_count": 29,
     "metadata": {},
     "output_type": "execute_result"
    }
   ],
   "source": [
    "import math\n",
    "math.sqrt(10)"
   ]
  },
  {
   "cell_type": "markdown",
   "metadata": {
    "id": "IITF_sISB_S-"
   },
   "source": [
    "Here just the single identifier math is added to the current namespace. If you want to access one of the functions in the module, you need to use the dot notation to get to it."
   ]
  },
  {
   "cell_type": "code",
   "execution_count": 30,
   "metadata": {
    "id": "kpMdBCXMB_S_"
   },
   "outputs": [
    {
     "data": {
      "text/plain": [
       "3.1622776601683795"
      ]
     },
     "execution_count": 30,
     "metadata": {},
     "output_type": "execute_result"
    }
   ],
   "source": [
    "from math import cos, sin, sqrt\n",
    "sqrt(10)"
   ]
  },
  {
   "cell_type": "markdown",
   "metadata": {
    "id": "avBmbvlKB_S_"
   },
   "source": [
    "The names are added directly to the current namespace, and can be used without qualification. The name `math` is not itself imported, so trying to use the qualified form `math.sqrt` would give an error.\n",
    "\n",
    "Then we have a convenient shorthand:"
   ]
  },
  {
   "cell_type": "code",
   "execution_count": 31,
   "metadata": {
    "id": "2jM0fhBbB_S_"
   },
   "outputs": [
    {
     "data": {
      "text/plain": [
       "3.1622776601683795"
      ]
     },
     "execution_count": 31,
     "metadata": {},
     "output_type": "execute_result"
    }
   ],
   "source": [
    "from math import *   # Import all the identifiers from math,\n",
    "                     #   adding them to the current namespace.\n",
    "sqrt(10)             # Use them without qualification."
   ]
  },
  {
   "cell_type": "markdown",
   "metadata": {
    "id": "-p0WUo7DB_S_"
   },
   "source": [
    "Of these three, the first method is generally preferred, even though it means a little more typing each time. Although, we can make things shorter by importing a module under a different name:"
   ]
  },
  {
   "cell_type": "code",
   "execution_count": 32,
   "metadata": {
    "id": "Xv9JzQX2B_TA"
   },
   "outputs": [
    {
     "data": {
      "text/plain": [
       "3.141592653589793"
      ]
     },
     "execution_count": 32,
     "metadata": {},
     "output_type": "execute_result"
    }
   ],
   "source": [
    "import math as m\n",
    "m.pi"
   ]
  },
  {
   "cell_type": "markdown",
   "metadata": {
    "id": "NlWmzBINB_TB"
   },
   "source": [
    "There are conventional nicknames for common modules that we will use later in the course:\n",
    "```python\n",
    "import numpy as np\n",
    "import pandas as pd\n",
    "import matplotlib.pyplot as plt\n",
    "```\n",
    "\n",
    "[あ]"
   ]
  },
  {
   "cell_type": "markdown",
   "metadata": {
    "id": "4NGPH1fxB_TB"
   },
   "source": [
    "## Final Words"
   ]
  },
  {
   "cell_type": "markdown",
   "metadata": {
    "id": "gVPGhL4IB_TB"
   },
   "source": [
    "Understanding how to use modules can help you...\n",
    "- breakdown a big project into manageable pieces of related code\n",
    "- take advantage of the wide array of python modules that could be used for various applications\n",
    "\n",
    "[あ]"
   ]
  },
  {
   "cell_type": "markdown",
   "metadata": {
    "id": "PMTqT68MB_TB"
   },
   "source": [
    "## REVIEW QUESTIONS"
   ]
  },
  {
   "cell_type": "markdown",
   "metadata": {
    "id": "wfxziTgmB_TC"
   },
   "source": [
    "- Explain the advantages of writing your own modules\n",
    "- What is the preferred way of importing a module in Python?\n",
    "- How do you get help on a function in a module?\n",
    "- Explain why and how 2 modules with the same function name can concurrently be used in the same Python script\n",
    "\n",
    "[あ]"
   ]
  },
  {
   "cell_type": "markdown",
   "metadata": {
    "id": "S19E0Wr0B_TC"
   },
   "source": [
    "## EXERCISES"
   ]
  },
  {
   "cell_type": "markdown",
   "metadata": {
    "id": "xb_p_H0vB_TC"
   },
   "source": [
    "#### Exercise 1\n",
    "Adapted from [TCS] Appendix D, Exercise 2\n",
    "\n",
    "Open help for the math module.\n",
    "\n",
    "- What are the constants in the math module?\n",
    "- What's does `math.exp` do? What about `math.pow`?  \n",
    "- How do you calculate logarithms? Logarithms base 10? Natural Logarithms?\n"
   ]
  },
  {
   "cell_type": "code",
   "execution_count": 38,
   "metadata": {
    "scrolled": true
   },
   "outputs": [
    {
     "name": "stdout",
     "output_type": "stream",
     "text": [
      "Help on built-in module math:\n",
      "\n",
      "NAME\n",
      "    math\n",
      "\n",
      "DESCRIPTION\n",
      "    This module provides access to the mathematical functions\n",
      "    defined by the C standard.\n",
      "\n",
      "FUNCTIONS\n",
      "    acos(x, /)\n",
      "        Return the arc cosine (measured in radians) of x.\n",
      "        \n",
      "        The result is between 0 and pi.\n",
      "    \n",
      "    acosh(x, /)\n",
      "        Return the inverse hyperbolic cosine of x.\n",
      "    \n",
      "    asin(x, /)\n",
      "        Return the arc sine (measured in radians) of x.\n",
      "        \n",
      "        The result is between -pi/2 and pi/2.\n",
      "    \n",
      "    asinh(x, /)\n",
      "        Return the inverse hyperbolic sine of x.\n",
      "    \n",
      "    atan(x, /)\n",
      "        Return the arc tangent (measured in radians) of x.\n",
      "        \n",
      "        The result is between -pi/2 and pi/2.\n",
      "    \n",
      "    atan2(y, x, /)\n",
      "        Return the arc tangent (measured in radians) of y/x.\n",
      "        \n",
      "        Unlike atan(y/x), the signs of both x and y are considered.\n",
      "    \n",
      "    atanh(x, /)\n",
      "        Return the inverse hyperbolic tangent of x.\n",
      "    \n",
      "    cbrt(x, /)\n",
      "        Return the cube root of x.\n",
      "    \n",
      "    ceil(x, /)\n",
      "        Return the ceiling of x as an Integral.\n",
      "        \n",
      "        This is the smallest integer >= x.\n",
      "    \n",
      "    comb(n, k, /)\n",
      "        Number of ways to choose k items from n items without repetition and without order.\n",
      "        \n",
      "        Evaluates to n! / (k! * (n - k)!) when k <= n and evaluates\n",
      "        to zero when k > n.\n",
      "        \n",
      "        Also called the binomial coefficient because it is equivalent\n",
      "        to the coefficient of k-th term in polynomial expansion of the\n",
      "        expression (1 + x)**n.\n",
      "        \n",
      "        Raises TypeError if either of the arguments are not integers.\n",
      "        Raises ValueError if either of the arguments are negative.\n",
      "    \n",
      "    copysign(x, y, /)\n",
      "        Return a float with the magnitude (absolute value) of x but the sign of y.\n",
      "        \n",
      "        On platforms that support signed zeros, copysign(1.0, -0.0)\n",
      "        returns -1.0.\n",
      "    \n",
      "    cos(x, /)\n",
      "        Return the cosine of x (measured in radians).\n",
      "    \n",
      "    cosh(x, /)\n",
      "        Return the hyperbolic cosine of x.\n",
      "    \n",
      "    degrees(x, /)\n",
      "        Convert angle x from radians to degrees.\n",
      "    \n",
      "    dist(p, q, /)\n",
      "        Return the Euclidean distance between two points p and q.\n",
      "        \n",
      "        The points should be specified as sequences (or iterables) of\n",
      "        coordinates.  Both inputs must have the same dimension.\n",
      "        \n",
      "        Roughly equivalent to:\n",
      "            sqrt(sum((px - qx) ** 2.0 for px, qx in zip(p, q)))\n",
      "    \n",
      "    erf(x, /)\n",
      "        Error function at x.\n",
      "    \n",
      "    erfc(x, /)\n",
      "        Complementary error function at x.\n",
      "    \n",
      "    exp(x, /)\n",
      "        Return e raised to the power of x.\n",
      "    \n",
      "    exp2(x, /)\n",
      "        Return 2 raised to the power of x.\n",
      "    \n",
      "    expm1(x, /)\n",
      "        Return exp(x)-1.\n",
      "        \n",
      "        This function avoids the loss of precision involved in the direct evaluation of exp(x)-1 for small x.\n",
      "    \n",
      "    fabs(x, /)\n",
      "        Return the absolute value of the float x.\n",
      "    \n",
      "    factorial(n, /)\n",
      "        Find n!.\n",
      "        \n",
      "        Raise a ValueError if x is negative or non-integral.\n",
      "    \n",
      "    floor(x, /)\n",
      "        Return the floor of x as an Integral.\n",
      "        \n",
      "        This is the largest integer <= x.\n",
      "    \n",
      "    fmod(x, y, /)\n",
      "        Return fmod(x, y), according to platform C.\n",
      "        \n",
      "        x % y may differ.\n",
      "    \n",
      "    frexp(x, /)\n",
      "        Return the mantissa and exponent of x, as pair (m, e).\n",
      "        \n",
      "        m is a float and e is an int, such that x = m * 2.**e.\n",
      "        If x is 0, m and e are both 0.  Else 0.5 <= abs(m) < 1.0.\n",
      "    \n",
      "    fsum(seq, /)\n",
      "        Return an accurate floating point sum of values in the iterable seq.\n",
      "        \n",
      "        Assumes IEEE-754 floating point arithmetic.\n",
      "    \n",
      "    gamma(x, /)\n",
      "        Gamma function at x.\n",
      "    \n",
      "    gcd(*integers)\n",
      "        Greatest Common Divisor.\n",
      "    \n",
      "    hypot(...)\n",
      "        hypot(*coordinates) -> value\n",
      "        \n",
      "        Multidimensional Euclidean distance from the origin to a point.\n",
      "        \n",
      "        Roughly equivalent to:\n",
      "            sqrt(sum(x**2 for x in coordinates))\n",
      "        \n",
      "        For a two dimensional point (x, y), gives the hypotenuse\n",
      "        using the Pythagorean theorem:  sqrt(x*x + y*y).\n",
      "        \n",
      "        For example, the hypotenuse of a 3/4/5 right triangle is:\n",
      "        \n",
      "            >>> hypot(3.0, 4.0)\n",
      "            5.0\n",
      "    \n",
      "    isclose(a, b, *, rel_tol=1e-09, abs_tol=0.0)\n",
      "        Determine whether two floating point numbers are close in value.\n",
      "        \n",
      "          rel_tol\n",
      "            maximum difference for being considered \"close\", relative to the\n",
      "            magnitude of the input values\n",
      "          abs_tol\n",
      "            maximum difference for being considered \"close\", regardless of the\n",
      "            magnitude of the input values\n",
      "        \n",
      "        Return True if a is close in value to b, and False otherwise.\n",
      "        \n",
      "        For the values to be considered close, the difference between them\n",
      "        must be smaller than at least one of the tolerances.\n",
      "        \n",
      "        -inf, inf and NaN behave similarly to the IEEE 754 Standard.  That\n",
      "        is, NaN is not close to anything, even itself.  inf and -inf are\n",
      "        only close to themselves.\n",
      "    \n",
      "    isfinite(x, /)\n",
      "        Return True if x is neither an infinity nor a NaN, and False otherwise.\n",
      "    \n",
      "    isinf(x, /)\n",
      "        Return True if x is a positive or negative infinity, and False otherwise.\n",
      "    \n",
      "    isnan(x, /)\n",
      "        Return True if x is a NaN (not a number), and False otherwise.\n",
      "    \n",
      "    isqrt(n, /)\n",
      "        Return the integer part of the square root of the input.\n",
      "    \n",
      "    lcm(*integers)\n",
      "        Least Common Multiple.\n",
      "    \n",
      "    ldexp(x, i, /)\n",
      "        Return x * (2**i).\n",
      "        \n",
      "        This is essentially the inverse of frexp().\n",
      "    \n",
      "    lgamma(x, /)\n",
      "        Natural logarithm of absolute value of Gamma function at x.\n",
      "    \n",
      "    log(...)\n",
      "        log(x, [base=math.e])\n",
      "        Return the logarithm of x to the given base.\n",
      "        \n",
      "        If the base not specified, returns the natural logarithm (base e) of x.\n",
      "    \n",
      "    log10(x, /)\n",
      "        Return the base 10 logarithm of x.\n",
      "    \n",
      "    log1p(x, /)\n",
      "        Return the natural logarithm of 1+x (base e).\n",
      "        \n",
      "        The result is computed in a way which is accurate for x near zero.\n",
      "    \n",
      "    log2(x, /)\n",
      "        Return the base 2 logarithm of x.\n",
      "    \n",
      "    modf(x, /)\n",
      "        Return the fractional and integer parts of x.\n",
      "        \n",
      "        Both results carry the sign of x and are floats.\n",
      "    \n",
      "    nextafter(x, y, /)\n",
      "        Return the next floating-point value after x towards y.\n",
      "    \n",
      "    perm(n, k=None, /)\n",
      "        Number of ways to choose k items from n items without repetition and with order.\n",
      "        \n",
      "        Evaluates to n! / (n - k)! when k <= n and evaluates\n",
      "        to zero when k > n.\n",
      "        \n",
      "        If k is not specified or is None, then k defaults to n\n",
      "        and the function returns n!.\n",
      "        \n",
      "        Raises TypeError if either of the arguments are not integers.\n",
      "        Raises ValueError if either of the arguments are negative.\n",
      "    \n",
      "    pow(x, y, /)\n",
      "        Return x**y (x to the power of y).\n",
      "    \n",
      "    prod(iterable, /, *, start=1)\n",
      "        Calculate the product of all the elements in the input iterable.\n",
      "        \n",
      "        The default start value for the product is 1.\n",
      "        \n",
      "        When the iterable is empty, return the start value.  This function is\n",
      "        intended specifically for use with numeric values and may reject\n",
      "        non-numeric types.\n",
      "    \n",
      "    radians(x, /)\n",
      "        Convert angle x from degrees to radians.\n",
      "    \n",
      "    remainder(x, y, /)\n",
      "        Difference between x and the closest integer multiple of y.\n",
      "        \n",
      "        Return x - n*y where n*y is the closest integer multiple of y.\n",
      "        In the case where x is exactly halfway between two multiples of\n",
      "        y, the nearest even value of n is used. The result is always exact.\n",
      "    \n",
      "    sin(x, /)\n",
      "        Return the sine of x (measured in radians).\n",
      "    \n",
      "    sinh(x, /)\n",
      "        Return the hyperbolic sine of x.\n",
      "    \n",
      "    sqrt(x, /)\n",
      "        Return the square root of x.\n",
      "    \n",
      "    tan(x, /)\n",
      "        Return the tangent of x (measured in radians).\n",
      "    \n",
      "    tanh(x, /)\n",
      "        Return the hyperbolic tangent of x.\n",
      "    \n",
      "    trunc(x, /)\n",
      "        Truncates the Real x to the nearest Integral toward 0.\n",
      "        \n",
      "        Uses the __trunc__ magic method.\n",
      "    \n",
      "    ulp(x, /)\n",
      "        Return the value of the least significant bit of the float x.\n",
      "\n",
      "DATA\n",
      "    e = 2.718281828459045\n",
      "    inf = inf\n",
      "    nan = nan\n",
      "    pi = 3.141592653589793\n",
      "    tau = 6.283185307179586\n",
      "\n",
      "FILE\n",
      "    (built-in)\n",
      "\n",
      "\n"
     ]
    },
    {
     "data": {
      "text/plain": [
       "['__doc__',\n",
       " '__loader__',\n",
       " '__name__',\n",
       " '__package__',\n",
       " '__spec__',\n",
       " 'acos',\n",
       " 'acosh',\n",
       " 'asin',\n",
       " 'asinh',\n",
       " 'atan',\n",
       " 'atan2',\n",
       " 'atanh',\n",
       " 'cbrt',\n",
       " 'ceil',\n",
       " 'comb',\n",
       " 'copysign',\n",
       " 'cos',\n",
       " 'cosh',\n",
       " 'degrees',\n",
       " 'dist',\n",
       " 'e',\n",
       " 'erf',\n",
       " 'erfc',\n",
       " 'exp',\n",
       " 'exp2',\n",
       " 'expm1',\n",
       " 'fabs',\n",
       " 'factorial',\n",
       " 'floor',\n",
       " 'fmod',\n",
       " 'frexp',\n",
       " 'fsum',\n",
       " 'gamma',\n",
       " 'gcd',\n",
       " 'hypot',\n",
       " 'inf',\n",
       " 'isclose',\n",
       " 'isfinite',\n",
       " 'isinf',\n",
       " 'isnan',\n",
       " 'isqrt',\n",
       " 'lcm',\n",
       " 'ldexp',\n",
       " 'lgamma',\n",
       " 'log',\n",
       " 'log10',\n",
       " 'log1p',\n",
       " 'log2',\n",
       " 'modf',\n",
       " 'nan',\n",
       " 'nextafter',\n",
       " 'perm',\n",
       " 'pi',\n",
       " 'pow',\n",
       " 'prod',\n",
       " 'radians',\n",
       " 'remainder',\n",
       " 'sin',\n",
       " 'sinh',\n",
       " 'sqrt',\n",
       " 'tan',\n",
       " 'tanh',\n",
       " 'tau',\n",
       " 'trunc',\n",
       " 'ulp']"
      ]
     },
     "execution_count": 38,
     "metadata": {},
     "output_type": "execute_result"
    }
   ],
   "source": [
    "import math\n",
    "help(math)\n",
    "dir(math)"
   ]
  },
  {
   "cell_type": "code",
   "execution_count": 37,
   "metadata": {
    "scrolled": false
   },
   "outputs": [
    {
     "name": "stdout",
     "output_type": "stream",
     "text": [
      "Help on built-in function exp in module math:\n",
      "\n",
      "exp(x, /)\n",
      "    Return e raised to the power of x.\n",
      "\n",
      "Help on built-in function pow in module math:\n",
      "\n",
      "pow(x, y, /)\n",
      "    Return x**y (x to the power of y).\n",
      "\n"
     ]
    }
   ],
   "source": [
    "help(math.exp)\n",
    "help(math.pow)"
   ]
  },
  {
   "cell_type": "code",
   "execution_count": 47,
   "metadata": {
    "scrolled": false
   },
   "outputs": [
    {
     "name": "stdout",
     "output_type": "stream",
     "text": [
      "Help on built-in function log in module math:\n",
      "\n",
      "log(...)\n",
      "    log(x, [base=math.e])\n",
      "    Return the logarithm of x to the given base.\n",
      "    \n",
      "    If the base not specified, returns the natural logarithm (base e) of x.\n",
      "\n",
      "Help on built-in function log10 in module math:\n",
      "\n",
      "log10(x, /)\n",
      "    Return the base 10 logarithm of x.\n",
      "\n"
     ]
    }
   ],
   "source": [
    "help(math.log)\n",
    "help(math.log10)"
   ]
  },
  {
   "cell_type": "markdown",
   "metadata": {
    "id": "5UOi3EwKB_TC"
   },
   "source": [
    "#### Exercise 2\n",
    "- Create your own module.\n",
    "- Place variables and functions inside it.\n",
    "- Import your module and use the variabls and functions you've created in the module.\n",
    "- Try to add docstrings for the module and the functions\n",
    "\n",
    "[あ]\n"
   ]
  },
  {
   "cell_type": "code",
   "execution_count": 53,
   "metadata": {},
   "outputs": [
    {
     "name": "stdout",
     "output_type": "stream",
     "text": [
      "Overwriting mymodule.py\n"
     ]
    }
   ],
   "source": [
    "%%writefile mymodule.py\n",
    "\"\"\"\n",
    "My First Module\n",
    "\"\"\"\n",
    "word = 'Hello World! my name is Franz Peter Joseph D. Braga'\n",
    "\n",
    "def calculateLoan(months_Contribution) :\n",
    "    \"\"\"\n",
    "    Parameter: The total number of Months of Company membership contribution\n",
    "    Returns: The Loanable Amount\n",
    "    \"\"\"\n",
    "    loan_Factor = None\n",
    "    Loanable = None\n",
    "    if months_Contribution > 120 :\n",
    "        loan_Factor = 0.80\n",
    "    else :\n",
    "        loan_Factor = 0.60\n",
    "    Loanable = (months_Contribution * 100) * loan_Factor\n",
    "    return (Loanable)"
   ]
  },
  {
   "cell_type": "code",
   "execution_count": 54,
   "metadata": {
    "scrolled": true
   },
   "outputs": [
    {
     "name": "stdout",
     "output_type": "stream",
     "text": [
      "1440.0\n"
     ]
    }
   ],
   "source": [
    "import mymodule\n",
    "loanAmount = mymodule.calculateLoan(24)\n",
    "print(loanAmount)"
   ]
  },
  {
   "cell_type": "markdown",
   "metadata": {
    "id": "r0vLM45ZB_TC"
   },
   "source": [
    "\n",
    "[TABLE OF CONTENTS](#contents)"
   ]
  },
  {
   "cell_type": "markdown",
   "metadata": {
    "id": "BzZYlku6B_TD"
   },
   "source": [
    "<a id='objects'></a>\n",
    "\n",
    "# PYTHON OBJECTS"
   ]
  },
  {
   "cell_type": "markdown",
   "metadata": {
    "id": "_IQX3tqoB_TD"
   },
   "source": [
    "### Credits\n",
    "\n",
    "For this section, the following are the sources of  code snippets and explanatory texts:\n",
    "\n",
    "- [How to Think Like a Computer\n",
    "Scientist: 3rd Edition (Using Python 3.x)](https://howtothink.readthedocs.io/en/latest/) by  Jeffrey Elkner, Peter Wentworth, Allen B. Downey, and Chris Meyers.\n",
    "  - Notes and codes from this source are indicated by this the marker `[TCS]`\n",
    "\n",
    "- [Python for Everybody - Online HTML Book](https://www.py4e.com/html3/) by Charles Russel Severance.\n",
    "  - Notes and codes from this source are indicated by this the marker `[PEW]`\n",
    "\n",
    "\n",
    "Additional codes and comments from:\n",
    "\n",
    "- Antonio C. Briza\n",
    "  - code cells marked by `#あ` at the first or last line\n",
    "  - markdown and raw cells marked by `[あ]` at the end"
   ]
  },
  {
   "cell_type": "markdown",
   "metadata": {
    "id": "KXTXNPLCB_TD"
   },
   "source": [
    "## Object Oriented Programming (OOP): Quick Explanation\n",
    "\n",
    "Up to now, most of the programs we have been writing use a procedural **programming paradigm**. In procedural programming the focus is on **writing functions** or procedures which operate on data. In **object-oriented programming** the focus is on the **creation of objects** which contain **both data and functionality together**.\n",
    "    \n",
    "- **programming paradigm** focus is on **writing functions**\n",
    "    - **functions** operate on data\n",
    "- **object-oriented programming**  focus is on the creation of **objects**\n",
    "    - objects contain both **data** and **functionality** together.\n",
    "    \n",
    "[TCS]\n"
   ]
  },
  {
   "cell_type": "markdown",
   "metadata": {
    "id": "sonvP61zB_TD"
   },
   "source": [
    "## OOP Motivation: Managing larger programs\n",
    "\n",
    "At the beginning of this book, we came up with four basic programming patterns which we use to construct programs:\n",
    "\n",
    "- Sequential code\n",
    "- Conditional code (if statements)\n",
    "- Repetitive code (loops)\n",
    "- Store and reuse (functions)\n",
    "\n",
    "In later chapters, we explored simple variables as well as collection data structures like lists, tuples, and dictionaries.\n",
    "\n",
    "As programs get to be millions of lines long, it becomes increasingly important to write code that is **easy to understand**. If you are working on a million-line program, you can never keep the entire program in your mind at the same time. We need ways to **break large programs into multiple smaller pieces** so that we have less to look at when solving a problem, fix a bug, or add a new feature.\n",
    "\n",
    "In a way, object oriented programming is a way to arrange your code so that you can **zoom into 50 lines** of the code and understand it **while ignoring the other 999,950 lines** of code for the moment.\n",
    "\n",
    "[PEW]"
   ]
  },
  {
   "cell_type": "markdown",
   "metadata": {
    "id": "MpTqSVlXB_TE"
   },
   "source": [
    "## Key Outcome\n",
    "\n",
    "Like many aspects of programming, it is necessary to learn the concepts of object oriented programming before you can use them effectively. You should approach this chapter as a way to learn some **terms and concepts** and work through a few **simple examples** to lay a foundation for future learning.\n",
    "\n",
    "The key outcome of this chapter is to have a **basic understanding** of **how objects are constructed** and **how they function** and most importantly **how we make use of the capabilities of objects** that are provided to us by Python and Python libraries.\n",
    "\n",
    "[PEW]"
   ]
  },
  {
   "cell_type": "markdown",
   "metadata": {
    "id": "2iOHKebgB_TE"
   },
   "source": [
    "## Object Creation"
   ]
  },
  {
   "cell_type": "markdown",
   "metadata": {
    "id": "EabjJnfjB_TE"
   },
   "source": [
    "At a basic level, an **object** is simply some code plus data structures that are smaller than a whole program. Defining a function allows us to store a bit of code and give it a name and then later invoke that code using the name of the function.\n",
    "\n",
    "An object can contain a number of functions (which we call **methods**) as well as data that is used by those functions. We call data items that are part of the object **attributes**.\n",
    "\n",
    "We use the **`class`** keyword to define the data and code that will make up each of the objects. The class keyword includes the name of the class and begins an indented block of code where we include the attributes (data) and methods (code).\n",
    "\n",
    "[PEW]"
   ]
  },
  {
   "cell_type": "markdown",
   "metadata": {
    "id": "PnVn5So4B_TE"
   },
   "source": [
    "We say that an **object** is an **instance** of a **class**. The **class** is like the **blueprint** of a house, the **object** is a **specific house**. Just as there could be several houses made from the same blueprint, there could be several objects created from the same class.\n",
    "\n",
    "[あ]"
   ]
  },
  {
   "cell_type": "markdown",
   "metadata": {
    "id": "BRSJZ8axB_TF"
   },
   "source": [
    "To illustrate this, we can create a class called `Point`, which has the following components:\n",
    "\n",
    "- data\n",
    "    - `x`: x-coordinate of a point\n",
    "    - `y`: y-coordinate of a point\n",
    "- functions\n",
    "    - `__init__` : Creats a new point\n",
    "    - `distance_from_origin`: Compute my distance from the origin\n",
    "    \n",
    "[あ]"
   ]
  },
  {
   "cell_type": "raw",
   "metadata": {
    "id": "hCN593k4B_TF"
   },
   "source": [
    "class Point:\n",
    "    \"\"\" Create a new Point, at coordinates x, y \"\"\"\n",
    "\n",
    "    def __init__(self, x=0, y=0):\n",
    "        \"\"\" Create a new point at x, y \"\"\"\n",
    "        self.x = x\n",
    "        self.y = y\n",
    "\n",
    "    def __str__(self):\n",
    "        return \"({0}, {1})\".format(self.x, self.y)\n",
    "\n",
    "    def distance_from_origin(self):\n",
    "        \"\"\" Compute my distance from the origin \"\"\"\n",
    "        return ((self.x ** 2) + (self.y ** 2)) ** 0.5\n",
    "\n",
    "#TCS"
   ]
  },
  {
   "cell_type": "markdown",
   "metadata": {
    "id": "XzK7-gnQB_TF"
   },
   "source": [
    "Let's breakdown the `class` definition by line\n",
    "- Line 1\n",
    "    - We define a new class named `Point`\n",
    "- Line 4\n",
    "    - `__init__`  is a special method. If a method named `__init__` is defined in a class, Python automatically runs that method upon  object creation. Defining an `__init__` method provides an opportunity to initiate variables in the object that will be created.\n",
    "    - `self` is a special parameter. It is the specific object (or the instance) that was created from the class.  Using the `self` parameter makes it clear that you are refering to an instance variable instead of a local variable.\n",
    "- Line 6\n",
    "    - We set the value of the object's `x` attribute (a variable inside a class) to the `x` parameter of the function `__init__`\n",
    "- Line 7\n",
    "    - We set the value of the object's `y` attribute (a variable inside a class) to the `y` parameter of the function `__init__`\n",
    "- Line 9\n",
    "    - `__str__`  is a special method. If a method named `__str__` is defined in a class, Python executes that method whenever a string equivalent of the object is called for (e.g. in a `print` command or a `str` type conversion).\n",
    "- Lines 12-14\n",
    "    - We define a method (a function inside a class) called `distance_from_origin`. Again, the parameter `self` refers to the specific object that was created from the class.\n",
    "\n",
    "[あ]"
   ]
  },
  {
   "cell_type": "markdown",
   "metadata": {
    "id": "OZTMMM93B_TG"
   },
   "source": [
    "Let’s create a few `Point` instances, look at their attributes, and call our new method on them.[TCS]"
   ]
  },
  {
   "cell_type": "raw",
   "metadata": {
    "id": "dldlTiL8B_TH"
   },
   "source": [
    "p = Point(3, 4)\n",
    "p.x, p.y"
   ]
  },
  {
   "cell_type": "raw",
   "metadata": {
    "id": "BC36y0FTB_TH"
   },
   "source": [
    "print(p)"
   ]
  },
  {
   "cell_type": "raw",
   "metadata": {
    "id": "k51tZl4gB_TI"
   },
   "source": [
    "p.distance_from_origin()"
   ]
  },
  {
   "cell_type": "raw",
   "metadata": {
    "id": "TxQQPkvbB_TI"
   },
   "source": [
    "q = Point(5, 12)\n",
    "str(q)"
   ]
  },
  {
   "cell_type": "raw",
   "metadata": {
    "id": "tsxALomrB_TJ"
   },
   "source": [
    "q.distance_from_origin()"
   ]
  },
  {
   "cell_type": "markdown",
   "metadata": {
    "id": "Z79c14oPB_TK"
   },
   "source": [
    "### Question: Why not just define a tuple (x,y) instead of a `Point` class?"
   ]
  },
  {
   "cell_type": "markdown",
   "metadata": {
    "id": "Vrxr2zMyB_TL"
   },
   "source": [
    "We can add methods to the `Point` class that are **sensible operations** for points, but which may not be appropriate for other tuples like `(25, 12)` which might represent, say, a day and a month, e.g. Christmas day. So being able to calculate the distance from the origin is sensible for points, but not for (day, month) data. For (day, month) data, we’d like different operations, perhaps to find what day of the week it will fall on in 2020.\n",
    "\n",
    "Creating a class like `Point` brings an exceptional amount of **organizational power** to our programs, and to our thinking. We can group together the sensible operations, and the kinds of data they apply to, and **each instance of the class can have its own state**.\n",
    "\n",
    "[TCS]"
   ]
  },
  {
   "cell_type": "markdown",
   "metadata": {
    "id": "xBVPX7FsB_TL"
   },
   "source": [
    "For instance, we can add a new method called `halfway` which can return another `Point` object [あ]"
   ]
  },
  {
   "cell_type": "raw",
   "metadata": {
    "id": "TD1BFVcjB_TM"
   },
   "source": [
    "class Point:\n",
    "    \"\"\" Create a new Point, at coordinates x, y \"\"\"\n",
    "\n",
    "    def __init__(self, x=0, y=0):\n",
    "        \"\"\" Create a new point at x, y \"\"\"\n",
    "        self.x = x\n",
    "        self.y = y\n",
    "\n",
    "    def __str__(self):    #\n",
    "        return \"({0}, {1})\".format(self.x, self.y)\n",
    "\n",
    "    def distance_from_origin(self):\n",
    "        \"\"\" Compute my distance from the origin \"\"\"\n",
    "        return ((self.x ** 2) + (self.y ** 2)) ** 0.5\n",
    "\n",
    "    def halfway(self, target):\n",
    "        \"\"\" Return the halfway point between myself and the target \"\"\"\n",
    "        mx = (self.x + target.x)/2\n",
    "        my = (self.y + target.y)/2\n",
    "        return Point(mx, my)\n",
    "\n",
    "#TCS"
   ]
  },
  {
   "cell_type": "raw",
   "metadata": {
    "id": "QBiNQf8pB_TM"
   },
   "source": [
    "p = Point(3,4)\n",
    "q = Point(5,12)\n",
    "r = p.halfway(q)\n",
    "print(p)\n",
    "print(q)\n",
    "print(r)\n",
    "\n",
    "#TCS"
   ]
  },
  {
   "cell_type": "markdown",
   "metadata": {
    "id": "gwYRS2YMB_TN"
   },
   "source": [
    "## Objects can have state"
   ]
  },
  {
   "cell_type": "markdown",
   "metadata": {
    "id": "qgEVfi-TB_TN"
   },
   "source": [
    "Objects are most useful when we also need to keep some state that is updated from time to time. Consider a bank account object, a main component of the state would be the current balance, and perhaps a log of all transactions. The methods would allow us to query the current balance, deposit new funds, or make a payment. Making a payment would include an amount, and a description, so that this could be added to the transaction log. We’d also want a method to show the transaction log.\n",
    "\n",
    "[TCS]"
   ]
  },
  {
   "cell_type": "markdown",
   "metadata": {
    "id": "dcqQ195kB_TN"
   },
   "source": [
    "The fact that objects can have a state is its main advantage over using modules with variables and functions.  Importing a variable only gives you one \"copy\" of the variables and functions in that module, whereas you could maintain without interference hundreds of objects which are all created from the same class.\n",
    "\n",
    "[あ]"
   ]
  },
  {
   "cell_type": "markdown",
   "metadata": {
    "id": "epMHxql_B_TO"
   },
   "source": [
    "## Final Words"
   ]
  },
  {
   "cell_type": "markdown",
   "metadata": {
    "id": "narC3NjjB_TO"
   },
   "source": [
    "This is just a quick introduction to Object Oriented Programming.\n",
    "\n",
    "The goal of the section is more to familiarize you to OOP concepts and capabitilies so that you could be more equipped to handle different Python modules, most of which are based on the OOP paradigm.\n",
    "\n",
    "Students are encouraged to read more on advanced OOP topics using [How to Think Like a Computer\n",
    "Scientist: 3rd Edition (Using Python 3.x)](https://howtothink.readthedocs.io/en/latest/) by Jeffrey Elkner, Peter Wentworth, Allen B. Downey, and Chris Meyers..\n",
    "\n",
    "[あ]"
   ]
  },
  {
   "cell_type": "markdown",
   "metadata": {
    "id": "JzjNKm9GB_TO"
   },
   "source": [
    "## REVIEW"
   ]
  },
  {
   "cell_type": "markdown",
   "metadata": {
    "id": "_coG3Ap1B_TP"
   },
   "source": [
    "1.  Make sure you are familiar with the meaning of the following terms (and the difference among some of them)\n",
    "    - class vs. object vs. instance\n",
    "    - method vs. function\n",
    "    - attribute vs. variable\n",
    "\n",
    "\n",
    "2. Explain the difference in focus and approach of procedural and OOP paradigms\n",
    "\n",
    "\n",
    "3. Explain the advantage of using a class over using modules which only contain a collection of data and functions\n",
    "\n",
    "\n",
    "[あ]"
   ]
  },
  {
   "cell_type": "markdown",
   "metadata": {
    "id": "oEv3ySX8B_TP"
   },
   "source": [
    "[TABLE OF CONTENTS](#contents)"
   ]
  }
 ],
 "metadata": {
  "colab": {
   "provenance": [
    {
     "file_id": "1l0Th9Zyf1phqky8wlSIjRJ0MhxWRqJNt",
     "timestamp": 1710303531959
    }
   ]
  },
  "hide_input": false,
  "kernelspec": {
   "display_name": "Python 3 (ipykernel)",
   "language": "python",
   "name": "python3"
  },
  "language_info": {
   "codemirror_mode": {
    "name": "ipython",
    "version": 3
   },
   "file_extension": ".py",
   "mimetype": "text/x-python",
   "name": "python",
   "nbconvert_exporter": "python",
   "pygments_lexer": "ipython3",
   "version": "3.11.5"
  }
 },
 "nbformat": 4,
 "nbformat_minor": 1
}
