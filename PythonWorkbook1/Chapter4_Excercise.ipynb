{
  "nbformat": 4,
  "nbformat_minor": 0,
  "metadata": {
    "colab": {
      "provenance": []
    },
    "kernelspec": {
      "name": "python3",
      "display_name": "Python 3"
    },
    "language_info": {
      "name": "python"
    }
  },
  "cells": [
    {
      "cell_type": "markdown",
      "source": [
        "Excercise 1\n"
      ],
      "metadata": {
        "id": "Q_vfwa1mo-gB"
      }
    },
    {
      "cell_type": "code",
      "execution_count": 1,
      "metadata": {
        "colab": {
          "base_uri": "https://localhost:8080/"
        },
        "id": "wfjW2YYGo4jp",
        "outputId": "5aba9607-bf14-42ca-b708-6a68738a30b9"
      },
      "outputs": [
        {
          "output_type": "stream",
          "name": "stdout",
          "text": [
            "Enter Hours: 12\n",
            "Enter Rate: 5\n",
            "Pay: 60.0\n"
          ]
        }
      ],
      "source": [
        "def compute_pay(hours, rate):\n",
        "    regular_hours = min(hours, 40)\n",
        "    overtime_hours = max(hours - 40, 0)\n",
        "    pay = (regular_hours * rate) + (overtime_hours * rate * 1.5)\n",
        "    return pay\n",
        "\n",
        "hours = float(input(\"Enter Hours: \"))\n",
        "rate = float(input(\"Enter Rate: \"))\n",
        "\n",
        "total_pay = compute_pay(hours, rate)\n",
        "print(\"Pay:\", total_pay)"
      ]
    },
    {
      "cell_type": "markdown",
      "source": [
        "Challenge"
      ],
      "metadata": {
        "id": "aLt6fT20pjKv"
      }
    },
    {
      "cell_type": "code",
      "source": [
        "def computegrade(score):\n",
        "    if 97 <= score <= 100:\n",
        "        return \"1.0\"\n",
        "    elif 93 <= score < 97:\n",
        "        return \"1.25\"\n",
        "    elif 89 <= score < 93:\n",
        "        return \"1.5\"\n",
        "    elif 85 <= score < 89:\n",
        "        return \"1.75\"\n",
        "    elif 81 <= score < 85:\n",
        "        return \"2.0\"\n",
        "    elif 77 <= score < 81:\n",
        "        return \"2.25\"\n",
        "    elif 74 <= score < 77:\n",
        "        return \"2.5\"\n",
        "    elif 0 <= score < 74:\n",
        "        return \"3.0\"\n",
        "    else:\n",
        "        return \"Invalid score\"\n",
        "\n",
        "score = float(input(\"Enter the score: \"))\n",
        "grade = computegrade(score)\n",
        "print(\"Grade:\", grade)"
      ],
      "metadata": {
        "colab": {
          "base_uri": "https://localhost:8080/"
        },
        "id": "2klfjL4apkGg",
        "outputId": "ebc2ceb6-5c6e-4aa8-9434-c0f538818c8a"
      },
      "execution_count": 2,
      "outputs": [
        {
          "output_type": "stream",
          "name": "stdout",
          "text": [
            "Enter the score: 10\n",
            "Grade: 3.0\n"
          ]
        }
      ]
    }
  ]
}