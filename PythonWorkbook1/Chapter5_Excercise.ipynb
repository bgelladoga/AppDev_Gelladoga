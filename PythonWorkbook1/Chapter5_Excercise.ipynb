{
  "nbformat": 4,
  "nbformat_minor": 0,
  "metadata": {
    "colab": {
      "provenance": []
    },
    "kernelspec": {
      "name": "python3",
      "display_name": "Python 3"
    },
    "language_info": {
      "name": "python"
    }
  },
  "cells": [
    {
      "cell_type": "markdown",
      "source": [
        "Excercise"
      ],
      "metadata": {
        "id": "6jDft1Z1qGGi"
      }
    },
    {
      "cell_type": "code",
      "execution_count": 1,
      "metadata": {
        "colab": {
          "base_uri": "https://localhost:8080/"
        },
        "id": "5v6jmyntqC72",
        "outputId": "269b4662-e855-4547-97b1-8a393161892a"
      },
      "outputs": [
        {
          "output_type": "stream",
          "name": "stdout",
          "text": [
            "True\n",
            "False\n",
            "True\n",
            "True\n"
          ]
        }
      ],
      "source": [
        "a = 2\n",
        "b = 2.0\n",
        "c = a\n",
        "\n",
        "print(a == b)  # True, values are equal\n",
        "print(a is b)  # False, different objects (different types)\n",
        "print(a == c)  # True, values are equal\n",
        "print(a is c)  # True, same object (same value and type)\n"
      ]
    },
    {
      "cell_type": "markdown",
      "source": [
        "Challenge 1\n"
      ],
      "metadata": {
        "id": "RySuftGAqaFM"
      }
    },
    {
      "cell_type": "code",
      "source": [
        "total = 0\n",
        "count = 0\n",
        "\n",
        "while True:\n",
        "    num_input = input(\"Enter a number: \")\n",
        "    if num_input == 'done':\n",
        "        break\n",
        "    try:\n",
        "        num = float(num_input)\n",
        "        total += num\n",
        "        count += 1\n",
        "    except ValueError:\n",
        "        print(\"Invalid input\")\n",
        "\n",
        "if count > 0:\n",
        "    average = total / count\n",
        "    print(total, count, average)\n",
        "else:\n",
        "    print(\"No valid numbers entered\")"
      ],
      "metadata": {
        "colab": {
          "base_uri": "https://localhost:8080/"
        },
        "id": "TprSRtyuqhU9",
        "outputId": "8f5be925-d30d-4b49-9077-da2759ed4ff3"
      },
      "execution_count": 2,
      "outputs": [
        {
          "output_type": "stream",
          "name": "stdout",
          "text": [
            "Enter a number: 5\n",
            "Enter a number: 6\n",
            "Enter a number: 3\n",
            "Enter a number: 2\n",
            "Enter a number: 1\n",
            "Enter a number: 7\n",
            "Enter a number: 2\n",
            "Enter a number: 521\n",
            "Enter a number: 2\n",
            "Enter a number: 32\n",
            "Enter a number: y\n",
            "Invalid input\n",
            "Enter a number: 4\n",
            "Enter a number: done\n",
            "585.0 11 53.18181818181818\n"
          ]
        }
      ]
    },
    {
      "cell_type": "markdown",
      "source": [
        "Challenge 2"
      ],
      "metadata": {
        "id": "jlRJcEMErE_w"
      }
    },
    {
      "cell_type": "markdown",
      "source": [
        "Write a program which repeatedly reads numbers until the user enters \"done\". Once \"done\" is entered, print out the total, count, and average of the numbers. If the user enters anything other than a number, detect their mistake using try and except and print an error message and skip to the next number."
      ],
      "metadata": {
        "id": "uJVan5P1raHi"
      }
    },
    {
      "cell_type": "code",
      "source": [
        "max_num = None\n",
        "min_num = None\n",
        "\n",
        "while True:\n",
        "    num_input = input(\"Enter a number: \")\n",
        "    if num_input == 'done':\n",
        "        break\n",
        "    try:\n",
        "        num = float(num_input)\n",
        "        if max_num is None or num > max_num:\n",
        "            max_num = num\n",
        "        if min_num is None or num < min_num:\n",
        "            min_num = num\n",
        "    except ValueError:\n",
        "        print(\"Invalid input\")\n",
        "\n",
        "if max_num is not None and min_num is not None:\n",
        "    print(\"Maximum:\", max_num)\n",
        "    print(\"Minimum:\", min_num)\n",
        "else:\n",
        "    print(\"No valid numbers entered\")\n"
      ],
      "metadata": {
        "colab": {
          "base_uri": "https://localhost:8080/"
        },
        "id": "GNdnlB_arHf4",
        "outputId": "c3140216-f101-42a9-ba31-05c59aa7943c"
      },
      "execution_count": 3,
      "outputs": [
        {
          "output_type": "stream",
          "name": "stdout",
          "text": [
            "Enter a number: 50\n",
            "Enter a number: 100\n",
            "Enter a number: done\n",
            "Maximum: 100.0\n",
            "Minimum: 50.0\n"
          ]
        }
      ]
    }
  ]
}