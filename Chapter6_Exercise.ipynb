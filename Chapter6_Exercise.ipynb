{
  "nbformat": 4,
  "nbformat_minor": 0,
  "metadata": {
    "colab": {
      "provenance": []
    },
    "kernelspec": {
      "name": "python3",
      "display_name": "Python 3"
    },
    "language_info": {
      "name": "python"
    }
  },
  "cells": [
    {
      "cell_type": "markdown",
      "source": [
        "Chapter 6"
      ],
      "metadata": {
        "id": "2_3U0WrSgkEI"
      }
    },
    {
      "cell_type": "markdown",
      "source": [
        "Exercise 1:\n"
      ],
      "metadata": {
        "id": "fHLxnMH6gsat"
      }
    },
    {
      "cell_type": "code",
      "execution_count": null,
      "metadata": {
        "id": "ObrmZtXrcedo"
      },
      "outputs": [],
      "source": [
        "text = 'Business Analytics'\n"
      ]
    },
    {
      "cell_type": "markdown",
      "source": [
        "What will the following expressions produce?"
      ],
      "metadata": {
        "id": "6zcs0eCeg3dt"
      }
    },
    {
      "cell_type": "code",
      "source": [
        "text[4]\n",
        "text[2:4]\n",
        "text[:4]\n",
        "text[4:]\n",
        "text[-2]\n",
        "text[-4:-2]\n",
        "text[-2:]\n",
        "text[:-2]"
      ],
      "metadata": {
        "id": "GaMvpEHmg5Xm"
      },
      "execution_count": null,
      "outputs": []
    },
    {
      "cell_type": "markdown",
      "source": [
        "answer:"
      ],
      "metadata": {
        "id": "b6AFEXg6g8Jx"
      }
    },
    {
      "cell_type": "code",
      "source": [
        "text = \"Business Analytics\"\n",
        "print(text[4])\n",
        "print(text[2:4])\n",
        "print(text[4:])\n",
        "print(text[:4])\n",
        "print(text[-2])\n",
        "print(text[-4:-2])\n",
        "print(text[-2:])\n",
        "print(text[:-2])"
      ],
      "metadata": {
        "colab": {
          "base_uri": "https://localhost:8080/"
        },
        "id": "kP-2lua_g90U",
        "outputId": "253eed77-7fb8-4f1d-d49f-0e50ee46f73c"
      },
      "execution_count": 1,
      "outputs": [
        {
          "output_type": "stream",
          "name": "stdout",
          "text": [
            "n\n",
            "si\n",
            "ness Analytics\n",
            "Busi\n",
            "c\n",
            "ti\n",
            "cs\n",
            "Business Analyti\n"
          ]
        }
      ]
    },
    {
      "cell_type": "markdown",
      "source": [
        "Exercise 2:"
      ],
      "metadata": {
        "id": "8VVQpFT2hMgk"
      }
    },
    {
      "cell_type": "markdown",
      "source": [
        "given code:"
      ],
      "metadata": {
        "id": "VOlrdFJthNXr"
      }
    },
    {
      "cell_type": "code",
      "source": [
        "phrase = 'One Ring to rule them all'"
      ],
      "metadata": {
        "id": "zsTg9JxNhO_0"
      },
      "execution_count": null,
      "outputs": []
    },
    {
      "cell_type": "markdown",
      "source": [
        "What string slicing expression gives out the following words:"
      ],
      "metadata": {
        "id": "sQ7TPXKthaJU"
      }
    },
    {
      "cell_type": "code",
      "source": [
        "'One '\n",
        "'Ring'\n",
        "'all'\n",
        "'them'\n",
        "'One Ring to rule them all'"
      ],
      "metadata": {
        "id": "fdi63oc7hRTF"
      },
      "execution_count": null,
      "outputs": []
    },
    {
      "cell_type": "markdown",
      "source": [
        "answer:"
      ],
      "metadata": {
        "id": "ryAA4xHchf4a"
      }
    },
    {
      "cell_type": "code",
      "source": [
        "phrase = \"One ring to rule them all\"\n",
        "print(phrase[:4])\n",
        "print(phrase[4:8])\n",
        "print(phrase[-3:])\n",
        "print(phrase[17:-4])\n",
        "print(phrase[:])"
      ],
      "metadata": {
        "colab": {
          "base_uri": "https://localhost:8080/"
        },
        "id": "7IuI-nG6hhP0",
        "outputId": "7900b7b4-5960-47d0-d28a-f819735eda54"
      },
      "execution_count": 3,
      "outputs": [
        {
          "output_type": "stream",
          "name": "stdout",
          "text": [
            "One \n",
            "ring\n",
            "all\n",
            "them\n",
            "One ring to rule them all\n"
          ]
        }
      ]
    },
    {
      "cell_type": "markdown",
      "source": [
        "challenge"
      ],
      "metadata": {
        "id": "_uWljPWVhj0r"
      }
    },
    {
      "cell_type": "markdown",
      "source": [
        "Write a program which repeatedly reads a full name, then does the following:\n",
        "\n",
        "strips the name of any trailing spaces capitalizes the first letter puts the rest into smaller letters"
      ],
      "metadata": {
        "id": "QQiSSnwthp0L"
      }
    },
    {
      "cell_type": "code",
      "source": [
        "for i in range(10) :\n",
        "  name = input(\"Enter your full name: \")\n",
        "  if name == \"exit\" :\n",
        "      break\n",
        "  print(name.strip().capitalize())"
      ],
      "metadata": {
        "colab": {
          "base_uri": "https://localhost:8080/"
        },
        "id": "FGeSpFOQhqrh",
        "outputId": "34fa5918-fba5-4ab1-c210-1e4684245952"
      },
      "execution_count": 2,
      "outputs": [
        {
          "name": "stdout",
          "output_type": "stream",
          "text": [
            "Enter your full name: Bryle Gelladoga\n",
            "Bryle gelladoga\n",
            "Enter your full name: exit\n"
          ]
        }
      ]
    }
  ]
}