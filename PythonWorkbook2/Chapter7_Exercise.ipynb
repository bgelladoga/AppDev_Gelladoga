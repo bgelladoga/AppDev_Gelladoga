{
  "nbformat": 4,
  "nbformat_minor": 0,
  "metadata": {
    "colab": {
      "provenance": [],
      "gpuType": "T4"
    },
    "kernelspec": {
      "name": "python3",
      "display_name": "Python 3"
    },
    "language_info": {
      "name": "python"
    },
    "accelerator": "GPU"
  },
  "cells": [
    {
      "cell_type": "markdown",
      "source": [
        "Exercise 1:"
      ],
      "metadata": {
        "id": "cP3UmkxKc4u6"
      }
    },
    {
      "cell_type": "markdown",
      "source": [
        "Write a program to read through a file and print the contents of the file (line by line) all in upper case."
      ],
      "metadata": {
        "id": "Jcg0j0rYc6rU"
      }
    },
    {
      "cell_type": "markdown",
      "source": [
        "Answer:"
      ],
      "metadata": {
        "id": "cnQsDgx5dEmz"
      }
    },
    {
      "cell_type": "code",
      "source": [
        "file_name = input(\"Enter the name of the file: \")\n",
        "\n",
        "try:\n",
        "    with open(file_name, 'r') as file:\n",
        "        for line in file:\n",
        "            print(line.upper(), end='')\n",
        "except FileNotFoundError:\n",
        "    print(\"File not found.\")"
      ],
      "metadata": {
        "colab": {
          "base_uri": "https://localhost:8080/"
        },
        "id": "8LlLOcCldF5Z",
        "outputId": "c6e6bf16-b750-47c0-eaba-1baa9c39a891"
      },
      "execution_count": 1,
      "outputs": [
        {
          "output_type": "stream",
          "name": "stdout",
          "text": [
            "Enter the name of the file: /Mydrive/PythonWorkbook2/blame.txt\n",
            "File not found.\n"
          ]
        }
      ]
    },
    {
      "cell_type": "markdown",
      "source": [
        "Exercise 2:"
      ],
      "metadata": {
        "id": "pG5ruoLjfxsJ"
      }
    },
    {
      "cell_type": "markdown",
      "source": [
        "Write a program to read through a file and output the number of lines in a file.\n"
      ],
      "metadata": {
        "id": "P3XjwtsgfziD"
      }
    },
    {
      "cell_type": "markdown",
      "source": [
        "Answer:"
      ],
      "metadata": {
        "id": "8BfI9VJzf6sv"
      }
    },
    {
      "cell_type": "code",
      "source": [
        "file_name = input(\"Enter the name of the file: \")\n",
        "\n",
        "try:\n",
        "    with open(file_name, 'r') as file:\n",
        "        line_count = sum(1 for line in file)\n",
        "    print(\"Number of lines in the file:\", line_count)\n",
        "except FileNotFoundError:\n",
        "    print(\"File not found.\")"
      ],
      "metadata": {
        "colab": {
          "base_uri": "https://localhost:8080/"
        },
        "id": "2KXY9olEf73y",
        "outputId": "5672ff1a-ee41-48b4-c359-4ecaed36b0a0"
      },
      "execution_count": 3,
      "outputs": [
        {
          "output_type": "stream",
          "name": "stdout",
          "text": [
            "Enter the name of the file: /content/drive/MyDrive/Workbook-2/blame.txt\n",
            "File not found.\n"
          ]
        }
      ]
    },
    {
      "cell_type": "markdown",
      "source": [
        "Challenge!"
      ],
      "metadata": {
        "id": "EMiPu9SKhRha"
      }
    },
    {
      "cell_type": "markdown",
      "source": [
        "# Write a program to prompt for a file name, and then read through the file and look for lines of the form:"
      ],
      "metadata": {
        "id": "ybZRMe47hTNd"
      }
    },
    {
      "cell_type": "markdown",
      "source": [
        "Answer:"
      ],
      "metadata": {
        "id": "gcmiMmgGhark"
      }
    },
    {
      "cell_type": "code",
      "source": [
        "fileName = input(\"Enter the file name: \")\n",
        "total = 0.0\n",
        "count = 0\n",
        "try :\n",
        "    basa = open(fileName, 'r')\n",
        "    for line in basa :\n",
        "        if line.startswith(\"X-DSPAM-Confidence:\"):\n",
        "                confidence = float(line.split(\":\")[1].strip())\n",
        "                total += confidence\n",
        "                count += 1\n",
        "    if count > 0:\n",
        "        average = total / count\n",
        "        print(\"Average spam confidence:\",average)\n",
        "    else:\n",
        "        print(\"No lines with spam confidence found.\")\n",
        "    basa.close();\n",
        "except FileNotFoundError:\n",
        "    print(f\"File '{fileName}' not found.\")"
      ],
      "metadata": {
        "colab": {
          "base_uri": "https://localhost:8080/"
        },
        "id": "UsYV_L8khcCz",
        "outputId": "6f7f72ec-9048-421c-8277-ea7220e60bf1"
      },
      "execution_count": 2,
      "outputs": [
        {
          "output_type": "stream",
          "name": "stdout",
          "text": [
            "Enter the file name: /content/drive/MyDrive/Workbook-2/blame.txt\n",
            "File '/content/drive/MyDrive/Workbook-2/blame.txt' not found.\n"
          ]
        }
      ]
    }
  ]
}